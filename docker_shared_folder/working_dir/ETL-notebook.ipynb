{
 "cells": [
  {
   "cell_type": "markdown",
   "id": "871f5791-a3fc-4cbd-a563-e9bbec966221",
   "metadata": {},
   "source": [
    "# Segunda entrega - 51940 Cueva Tomas\n",
    "En este notebook se desarrolla un proceso ETL. El mismo consiste de la extracción de datos de la API de CoinGecko, su transformación y filtrado a través de la biblioteca Pandas, finalizando con la carga de los datos utilizando PySpark."
   ]
  },
  {
   "cell_type": "markdown",
   "id": "c5611bed",
   "metadata": {},
   "source": [
    "## Instalo bibliotecas y llamo a los modulos del paquete etl de este directorio"
   ]
  },
  {
   "cell_type": "code",
   "execution_count": 1,
   "id": "de08fb7a-6ba5-416a-b119-94d940e0eb95",
   "metadata": {
    "tags": []
   },
   "outputs": [
    {
     "name": "stdout",
     "output_type": "stream",
     "text": [
      "Requirement already satisfied: requests in /opt/conda/lib/python3.10/site-packages (2.28.2)\n",
      "Requirement already satisfied: SQLAlchemy in /opt/conda/lib/python3.10/site-packages (2.0.10)\n",
      "Collecting psycopg2-binary\n",
      "  Downloading psycopg2_binary-2.9.6-cp310-cp310-manylinux_2_17_x86_64.manylinux2014_x86_64.whl (3.0 MB)\n",
      "\u001b[2K     \u001b[90m━━━━━━━━━━━━━━━━━━━━━━━━━━━━━━━━━━━━━━━━\u001b[0m \u001b[32m3.0/3.0 MB\u001b[0m \u001b[31m875.8 kB/s\u001b[0m eta \u001b[36m0:00:00\u001b[0m00:01\u001b[0m00:01\u001b[0m\n",
      "\u001b[?25hRequirement already satisfied: pyspark in /usr/local/spark-3.4.0-bin-hadoop3/python (3.4.0)\n",
      "Requirement already satisfied: charset-normalizer<4,>=2 in /opt/conda/lib/python3.10/site-packages (from requests) (3.1.0)\n",
      "Requirement already satisfied: idna<4,>=2.5 in /opt/conda/lib/python3.10/site-packages (from requests) (3.4)\n",
      "Requirement already satisfied: urllib3<1.27,>=1.21.1 in /opt/conda/lib/python3.10/site-packages (from requests) (1.26.15)\n",
      "Requirement already satisfied: certifi>=2017.4.17 in /opt/conda/lib/python3.10/site-packages (from requests) (2022.12.7)\n",
      "Requirement already satisfied: typing-extensions>=4.2.0 in /opt/conda/lib/python3.10/site-packages (from SQLAlchemy) (4.5.0)\n",
      "Requirement already satisfied: greenlet!=0.4.17 in /opt/conda/lib/python3.10/site-packages (from SQLAlchemy) (2.0.2)\n",
      "Collecting py4j==0.10.9.7 (from pyspark)\n",
      "  Downloading py4j-0.10.9.7-py2.py3-none-any.whl (200 kB)\n",
      "\u001b[2K     \u001b[90m━━━━━━━━━━━━━━━━━━━━━━━━━━━━━━━━━━━━━\u001b[0m \u001b[32m200.5/200.5 kB\u001b[0m \u001b[31m800.4 kB/s\u001b[0m eta \u001b[36m0:00:00\u001b[0ma \u001b[36m0:00:01\u001b[0m\n",
      "\u001b[?25hInstalling collected packages: py4j, psycopg2-binary\n",
      "Successfully installed psycopg2-binary-2.9.6 py4j-0.10.9.7\n"
     ]
    }
   ],
   "source": [
    "!pip install requests SQLAlchemy psycopg2-binary pyspark"
   ]
  },
  {
   "cell_type": "code",
   "execution_count": 6,
   "id": "4f1b9ad4-b00a-4ddc-aa9e-e3aaa050f9b7",
   "metadata": {
    "tags": []
   },
   "outputs": [],
   "source": [
    "from etl import(\n",
    "    spark,\n",
    "    extract_CoinGecko_API as extract,\n",
    "    transform_CoinGecko_API as transform,\n",
    "    load_pyspark_redshift_connectr as load\n",
    ")"
   ]
  },
  {
   "cell_type": "markdown",
   "id": "6a77aa1d",
   "metadata": {},
   "source": [
    "## Inicializo las clases de los modulo."
   ]
  },
  {
   "cell_type": "code",
   "execution_count": 10,
   "id": "5f3eaae7-35ba-4c6d-95d2-7f190007fc4b",
   "metadata": {
    "tags": []
   },
   "outputs": [],
   "source": [
    "extr = extract.Extract(\"https://api.coingecko.com/api/v3/\")\n",
    "spark_session = spark.PySpark()"
   ]
  },
  {
   "cell_type": "markdown",
   "id": "b22fad5d-4e03-4e9b-a9d7-80c7fa067c03",
   "metadata": {},
   "source": [
    "## 100 criptos con mayor capitalización bursatil\n",
    "En las siguientes celdas se extraen los datos de las 100 criptomonedas con mayor capitalizazción bursatil, se convierten en un dataframe y se cargan a su tabla correspondiente de redshift,"
   ]
  },
  {
   "cell_type": "code",
   "execution_count": 11,
   "id": "bfcf2fe4-0bf2-4c22-ae2a-62b0aad0db0a",
   "metadata": {
    "tags": []
   },
   "outputs": [],
   "source": [
    "json_top = extr.get_criptos_top()"
   ]
  },
  {
   "cell_type": "code",
   "execution_count": 15,
   "id": "270de2f8-db9d-4991-9f48-f911497d4422",
   "metadata": {
    "tags": []
   },
   "outputs": [],
   "source": [
    "df = spark_session.spark.read.json(\n",
    "            spark_session.spark.sparkContext.parallelize(json_top), multiLine=True\n",
    "        )"
   ]
  },
  {
   "cell_type": "code",
   "execution_count": 19,
   "id": "93fc3ceb-9667-45ce-ab23-3c48b1494dba",
   "metadata": {
    "tags": []
   },
   "outputs": [
    {
     "name": "stdout",
     "output_type": "stream",
     "text": [
      "root\n",
      " |-- id: string (nullable = true)\n",
      " |-- symbol: string (nullable = true)\n",
      " |-- name: string (nullable = true)\n",
      " |-- current_price: double (nullable = true)\n",
      " |-- market_cap: long (nullable = true)\n",
      " |-- market_cap_rank: long (nullable = true)\n",
      " |-- total_volume: long (nullable = true)\n",
      " |-- high_24h: double (nullable = true)\n",
      " |-- low_24h: double (nullable = true)\n",
      " |-- price_change_24h: double (nullable = true)\n",
      " |-- price_change_percentage_24h: double (nullable = true)\n",
      " |-- market_cap_change_24h: double (nullable = true)\n",
      " |-- market_cap_change_percentage_24h: double (nullable = true)\n",
      " |-- circulating_supply: double (nullable = true)\n",
      " |-- ath: double (nullable = true)\n",
      " |-- ath_change_percentage: double (nullable = true)\n",
      " |-- ath_date: string (nullable = true)\n",
      " |-- atl: double (nullable = true)\n",
      " |-- atl_change_percentage: double (nullable = true)\n",
      " |-- atl_date: string (nullable = true)\n",
      " |-- last_updated: string (nullable = true)\n",
      "\n"
     ]
    }
   ],
   "source": [
    "df.printSchema()"
   ]
  },
  {
   "cell_type": "code",
   "execution_count": 18,
   "id": "bb406fb4-bbfa-4716-8d46-08493975f68c",
   "metadata": {
    "tags": []
   },
   "outputs": [],
   "source": [
    "# Seleccionar las columnas deseadas\n",
    "selected_columns = [\n",
    "    'id',\n",
    "    'symbol',\n",
    "    'name',\n",
    "    'current_price',\n",
    "    'market_cap',\n",
    "    'market_cap_rank',\n",
    "    'total_volume',\n",
    "    'high_24h',\n",
    "    'low_24h',\n",
    "    'price_change_24h',\n",
    "    'price_change_percentage_24h',\n",
    "    'market_cap_change_24h',\n",
    "    'market_cap_change_percentage_24h',\n",
    "    'circulating_supply',\n",
    "    'ath',\n",
    "    'ath_change_percentage',\n",
    "    'ath_date',\n",
    "    'atl',\n",
    "    'atl_change_percentage',\n",
    "    'atl_date',\n",
    "    'last_updated',\n",
    "]\n",
    "df = df.select(selected_columns)"
   ]
  },
  {
   "cell_type": "code",
   "execution_count": 21,
   "id": "8c0e817e-dcae-4cb2-8af3-74e60a9657da",
   "metadata": {
    "tags": []
   },
   "outputs": [
    {
     "ename": "NameError",
     "evalue": "name 'self' is not defined",
     "output_type": "error",
     "traceback": [
      "\u001b[0;31m---------------------------------------------------------------------------\u001b[0m",
      "\u001b[0;31mNameError\u001b[0m                                 Traceback (most recent call last)",
      "Cell \u001b[0;32mIn[21], line 4\u001b[0m\n\u001b[1;32m      1\u001b[0m table \u001b[38;5;241m=\u001b[39m \u001b[38;5;124m\"\u001b[39m\u001b[38;5;124mcriptos_market_cap\u001b[39m\u001b[38;5;124m\"\u001b[39m\n\u001b[1;32m      2\u001b[0m df\u001b[38;5;241m.\u001b[39mwrite \\\n\u001b[1;32m      3\u001b[0m     \u001b[38;5;241m.\u001b[39mformat(\u001b[38;5;124m\"\u001b[39m\u001b[38;5;124mjdbc\u001b[39m\u001b[38;5;124m\"\u001b[39m) \\\n\u001b[0;32m----> 4\u001b[0m     \u001b[38;5;241m.\u001b[39moption(\u001b[38;5;124m\"\u001b[39m\u001b[38;5;124murl\u001b[39m\u001b[38;5;124m\"\u001b[39m, \u001b[38;5;28;43mself\u001b[39;49m\u001b[38;5;241m.\u001b[39mREDSHIFT_URL) \\\n\u001b[1;32m      5\u001b[0m     \u001b[38;5;241m.\u001b[39moption(\u001b[38;5;124m\"\u001b[39m\u001b[38;5;124mdbtable\u001b[39m\u001b[38;5;124m\"\u001b[39m, table) \\\n\u001b[1;32m      6\u001b[0m     \u001b[38;5;241m.\u001b[39moption(\u001b[38;5;124m\"\u001b[39m\u001b[38;5;124muser\u001b[39m\u001b[38;5;124m\"\u001b[39m, \u001b[38;5;28mself\u001b[39m\u001b[38;5;241m.\u001b[39mREDSHIFT_USER) \\\n\u001b[1;32m      7\u001b[0m     \u001b[38;5;241m.\u001b[39moption(\u001b[38;5;124m\"\u001b[39m\u001b[38;5;124mpassword\u001b[39m\u001b[38;5;124m\"\u001b[39m, \u001b[38;5;28mself\u001b[39m\u001b[38;5;241m.\u001b[39mREDSHIFT_PASSWORD) \\\n\u001b[1;32m      8\u001b[0m     \u001b[38;5;241m.\u001b[39moption(\u001b[38;5;124m\"\u001b[39m\u001b[38;5;124mdriver\u001b[39m\u001b[38;5;124m\"\u001b[39m, \u001b[38;5;124m\"\u001b[39m\u001b[38;5;124morg.postgresql.Driver\u001b[39m\u001b[38;5;124m\"\u001b[39m) \\\n\u001b[1;32m      9\u001b[0m     \u001b[38;5;241m.\u001b[39mmode(\u001b[38;5;124m\"\u001b[39m\u001b[38;5;124moverwrite\u001b[39m\u001b[38;5;124m\"\u001b[39m) \\\n\u001b[1;32m     10\u001b[0m     \u001b[38;5;241m.\u001b[39msave()\n\u001b[1;32m     12\u001b[0m \u001b[38;5;28mprint\u001b[39m(\u001b[38;5;124m\"\u001b[39m\u001b[38;5;124mDataframe subido\u001b[39m\u001b[38;5;124m\"\u001b[39m)\n",
      "\u001b[0;31mNameError\u001b[0m: name 'self' is not defined"
     ]
    }
   ],
   "source": [
    "table = \"criptos_market_cap\"\n",
    "df.write \\\n",
    "    .format(\"jdbc\") \\\n",
    "    .option(\"url\", self.REDSHIFT_URL) \\\n",
    "    .option(\"dbtable\", table) \\\n",
    "    .option(\"user\", self.REDSHIFT_USER) \\\n",
    "    .option(\"password\", self.REDSHIFT_PASSWORD) \\\n",
    "    .option(\"driver\", \"org.postgresql.Driver\") \\\n",
    "    .mode(\"overwrite\") \\\n",
    "    .save()\n",
    "\n",
    "print(\"Dataframe subido\")"
   ]
  },
  {
   "cell_type": "markdown",
   "id": "67a8f294",
   "metadata": {},
   "source": [
    "### Market chart de las top 10\n",
    "Utilizando los datos del dataframe del top 100, vamos a obtener el market chart de las 10 primeras del top."
   ]
  },
  {
   "cell_type": "code",
   "execution_count": 7,
   "id": "dca640a2-fc9d-4b36-aca2-def1ff05ab1e",
   "metadata": {
    "tags": []
   },
   "outputs": [],
   "source": [
    "id_column = df_top['id']"
   ]
  },
  {
   "cell_type": "code",
   "execution_count": 8,
   "id": "27c85cc2-eeef-4cf6-89e2-f896d524ab96",
   "metadata": {
    "tags": []
   },
   "outputs": [],
   "source": [
    "id_array = id_column.to_numpy()"
   ]
  },
  {
   "cell_type": "markdown",
   "id": "ab4a7c07",
   "metadata": {},
   "source": [
    "Luego ded obtener el array con todos los id, vamos a iterar 10 veces sobre el contenido del array, vamos a extraer los datos y transformarlos con las funciones de los modulos \"extr\" y \"transform\", para finalmente concatenarlos en un unico DataFrame."
   ]
  },
  {
   "cell_type": "code",
   "execution_count": 9,
   "id": "431e4d78-cb21-41ae-92ad-37ddbde1be62",
   "metadata": {
    "tags": []
   },
   "outputs": [
    {
     "name": "stdout",
     "output_type": "stream",
     "text": [
      "Solicitud exitosa\n",
      "Solicitud exitosa\n",
      "Solicitud exitosa\n",
      "Solicitud exitosa\n",
      "Solicitud exitosa\n",
      "Solicitud exitosa\n",
      "Solicitud exitosa\n",
      "Solicitud exitosa\n",
      "Solicitud exitosa\n",
      "Solicitud exitosa\n"
     ]
    }
   ],
   "source": [
    "df_all_market_charts = pd.DataFrame(columns = ['timestamp', 'prices', 'market_caps', 'total_volumes', 'cripto'])\n",
    "\n",
    "for i in range(0,10):\n",
    "    data = extr.get_market_chart(id_array[i])\n",
    "    df = transform.json_to_df_market_chart(data,id_array[i])\n",
    "    df_all_market_charts = pd.concat([df_all_market_charts, df], ignore_index=True)"
   ]
  },
  {
   "cell_type": "code",
   "execution_count": 10,
   "id": "49c81a3b-34ae-4767-ac2c-01766221844b",
   "metadata": {
    "tags": []
   },
   "outputs": [
    {
     "name": "stdout",
     "output_type": "stream",
     "text": [
      "<class 'pandas.core.frame.DataFrame'>\n",
      "RangeIndex: 25613 entries, 0 to 25612\n",
      "Data columns (total 5 columns):\n",
      " #   Column         Non-Null Count  Dtype  \n",
      "---  ------         --------------  -----  \n",
      " 0   timestamp      25613 non-null  object \n",
      " 1   prices         25613 non-null  float64\n",
      " 2   market_caps    25610 non-null  float64\n",
      " 3   total_volumes  25613 non-null  float64\n",
      " 4   cripto         25613 non-null  object \n",
      "dtypes: float64(3), object(2)\n",
      "memory usage: 1000.6+ KB\n"
     ]
    }
   ],
   "source": [
    "df_all_market_charts.info()"
   ]
  },
  {
   "cell_type": "code",
   "execution_count": 11,
   "id": "fcb73d82-616f-4214-b6e6-21396646b219",
   "metadata": {},
   "outputs": [
    {
     "name": "stdout",
     "output_type": "stream",
     "text": [
      "Ejecutando ETL\n",
      "Convertir el DataFrame de pandas a un PySpark DataFrame\n",
      "DataFrame[timestamp: bigint, prices: double, market_caps: double, total_volumes: double, cripto: string]\n",
      "Cargar el PySpark DataFrame en Redshift\n",
      "Dataframe subido\n"
     ]
    }
   ],
   "source": [
    "table = \"market_chart_criptos\"\n",
    "ld.execute(df_all_market_charts, table)"
   ]
  }
 ],
 "metadata": {
  "kernelspec": {
   "display_name": "Python 3 (ipykernel)",
   "language": "python",
   "name": "python3"
  },
  "language_info": {
   "codemirror_mode": {
    "name": "ipython",
    "version": 3
   },
   "file_extension": ".py",
   "mimetype": "text/x-python",
   "name": "python",
   "nbconvert_exporter": "python",
   "pygments_lexer": "ipython3",
   "version": "3.10.10"
  }
 },
 "nbformat": 4,
 "nbformat_minor": 5
}
